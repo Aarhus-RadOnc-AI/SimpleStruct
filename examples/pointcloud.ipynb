{
 "cells": [
  {
   "cell_type": "code",
   "execution_count": 2,
   "metadata": {
    "collapsed": true,
    "ExecuteTime": {
     "end_time": "2023-07-12T18:28:26.217679066Z",
     "start_time": "2023-07-12T18:28:26.211992185Z"
    }
   },
   "outputs": [],
   "source": [
    "## Change workdir to \"..\" (SimpleStruct)\n",
    "import os\n",
    "\n",
    "import PIL.ExifTags\n",
    "import numpy as np\n",
    "\n",
    "if os.path.basename(os.getcwd()) != \"SimpleStruct\":\n",
    "    os.chdir(os.path.join(os.path.abspath(\"\"), \"..\"))"
   ]
  },
  {
   "cell_type": "code",
   "execution_count": 3,
   "outputs": [],
   "source": [
    "\n",
    "## Install requirements\n",
    "import subprocess\n",
    "import sys\n",
    "\n",
    "# subprocess.check_call([sys.executable, \"-m\", \"pip\", \"install\", \"-r\", \"./requirements\"])"
   ],
   "metadata": {
    "collapsed": false,
    "ExecuteTime": {
     "end_time": "2023-07-12T18:28:26.688144110Z",
     "start_time": "2023-07-12T18:28:26.670956995Z"
    }
   }
  },
  {
   "cell_type": "code",
   "execution_count": 4,
   "outputs": [],
   "source": [
    "import simplestruct as ss"
   ],
   "metadata": {
    "collapsed": false,
    "ExecuteTime": {
     "end_time": "2023-07-12T18:28:27.944327989Z",
     "start_time": "2023-07-12T18:28:27.034553300Z"
    }
   }
  },
  {
   "cell_type": "code",
   "execution_count": 157,
   "outputs": [],
   "source": [
    "structure_set = ss.StructureSet(rtstruct_file=\"examples/segmentation.dcm\")"
   ],
   "metadata": {
    "collapsed": false,
    "ExecuteTime": {
     "end_time": "2023-07-12T19:27:24.952124325Z",
     "start_time": "2023-07-12T19:27:24.818419474Z"
    }
   }
  },
  {
   "cell_type": "code",
   "execution_count": 158,
   "outputs": [
    {
     "data": {
      "text/plain": "['AI_GTVt', 'AI_GTVn']"
     },
     "execution_count": 158,
     "metadata": {},
     "output_type": "execute_result"
    }
   ],
   "source": [
    "structure_set.get_structure_names()"
   ],
   "metadata": {
    "collapsed": false,
    "ExecuteTime": {
     "end_time": "2023-07-12T19:27:25.069434045Z",
     "start_time": "2023-07-12T19:27:25.022805762Z"
    }
   }
  },
  {
   "cell_type": "code",
   "execution_count": 159,
   "outputs": [],
   "source": [
    "point_cloud = structure_set.get_structure(\"AI_GTVt\").vertices"
   ],
   "metadata": {
    "collapsed": false,
    "ExecuteTime": {
     "end_time": "2023-07-12T19:27:25.276062333Z",
     "start_time": "2023-07-12T19:27:25.263454534Z"
    }
   }
  },
  {
   "cell_type": "code",
   "execution_count": 160,
   "outputs": [
    {
     "data": {
      "text/plain": "array([[   0.        ,    1.30208333,  -10.95833333, -129.        ],\n       [   0.        ,    1.171875  ,  -10.828125  , -129.        ],\n       [   0.        ,    1.04166667,  -10.828125  , -129.        ],\n       ...,\n       [   5.        ,    2.08333333,  -14.34375   , -114.        ],\n       [   5.        ,    1.953125  ,  -14.34375   , -114.        ],\n       [   5.        ,    1.82291667,  -14.47395833, -114.        ]])"
     },
     "execution_count": 160,
     "metadata": {},
     "output_type": "execute_result"
    }
   ],
   "source": [
    "point_cloud"
   ],
   "metadata": {
    "collapsed": false,
    "ExecuteTime": {
     "end_time": "2023-07-12T19:27:25.502709744Z",
     "start_time": "2023-07-12T19:27:25.492677237Z"
    }
   }
  },
  {
   "cell_type": "code",
   "execution_count": 161,
   "outputs": [
    {
     "data": {
      "text/plain": "(884, 4)"
     },
     "execution_count": 161,
     "metadata": {},
     "output_type": "execute_result"
    }
   ],
   "source": [
    "# Columns are (IndexOfSequence, X, Y, Z). Can be XOR'd in sequence if structures has holes inside (These samples does not have that)\n",
    "point_cloud.shape"
   ],
   "metadata": {
    "collapsed": false,
    "ExecuteTime": {
     "end_time": "2023-07-12T19:27:26.761193090Z",
     "start_time": "2023-07-12T19:27:26.752593024Z"
    }
   }
  },
  {
   "cell_type": "code",
   "execution_count": 162,
   "outputs": [],
   "source": [
    "#subprocess.check_call([sys.executable, \"-m\", \"pip\", \"install\", \"matplotlib\"])\n",
    "import matplotlib.pyplot as plt"
   ],
   "metadata": {
    "collapsed": false,
    "ExecuteTime": {
     "end_time": "2023-07-12T19:27:27.251449844Z",
     "start_time": "2023-07-12T19:27:27.243714821Z"
    }
   }
  },
  {
   "cell_type": "code",
   "execution_count": 163,
   "outputs": [
    {
     "data": {
      "text/plain": "array([[   5.        ,   -0.65104167,  -14.47395833, -114.        ],\n       [   5.        ,   -0.78125   ,  -14.34375   , -114.        ],\n       [   5.        ,   -0.91145833,  -14.34375   , -114.        ],\n       [   5.        ,   -1.04166667,  -14.21354167, -114.        ],\n       [   5.        ,   -1.171875  ,  -14.21354167, -114.        ],\n       [   5.        ,   -1.30208333,  -14.08333333, -114.        ],\n       [   5.        ,   -1.43229167,  -14.08333333, -114.        ],\n       [   5.        ,   -1.5625    ,  -13.953125  , -114.        ],\n       [   5.        ,   -1.69270833,  -13.953125  , -114.        ],\n       [   5.        ,   -2.34375   ,  -13.30208333, -114.        ],\n       [   5.        ,   -2.34375   ,  -13.171875  , -114.        ],\n       [   5.        ,   -2.47395833,  -13.04166667, -114.        ],\n       [   5.        ,   -2.47395833,  -12.91145833, -114.        ],\n       [   5.        ,   -2.60416667,  -12.78125   , -114.        ],\n       [   5.        ,   -2.60416667,  -12.65104167, -114.        ],\n       [   5.        ,   -3.125     ,  -12.13020833, -114.        ],\n       [   5.        ,   -3.125     ,  -12.        , -114.        ],\n       [   5.        ,   -3.25520833,  -11.86979167, -114.        ],\n       [   5.        ,   -3.25520833,  -11.73958333, -114.        ],\n       [   5.        ,   -3.38541667,  -11.609375  , -114.        ],\n       [   5.        ,   -3.38541667,  -11.47916667, -114.        ],\n       [   5.        ,   -4.296875  ,  -10.56770833, -114.        ],\n       [   5.        ,   -4.296875  ,  -10.4375    , -114.        ],\n       [   5.        ,   -4.42708333,  -10.30729167, -114.        ],\n       [   5.        ,   -4.42708333,  -10.17708333, -114.        ],\n       [   5.        ,   -4.55729167,  -10.046875  , -114.        ],\n       [   5.        ,   -4.55729167,   -9.91666667, -114.        ],\n       [   5.        ,   -4.6875    ,   -9.78645833, -114.        ],\n       [   5.        ,   -4.6875    ,   -9.265625  , -114.        ],\n       [   5.        ,   -4.55729167,   -9.13541667, -114.        ],\n       [   5.        ,   -4.55729167,   -9.00520833, -114.        ],\n       [   5.        ,   -4.42708333,   -8.875     , -114.        ],\n       [   5.        ,   -4.42708333,   -8.74479167, -114.        ],\n       [   5.        ,   -4.16666667,   -8.484375  , -114.        ],\n       [   5.        ,   -4.03645833,   -8.484375  , -114.        ],\n       [   5.        ,   -3.90625   ,   -8.35416667, -114.        ],\n       [   5.        ,   -2.47395833,   -8.35416667, -114.        ],\n       [   5.        ,   -2.34375   ,   -8.484375  , -114.        ],\n       [   5.        ,   -2.21354167,   -8.484375  , -114.        ],\n       [   5.        ,   -2.08333333,   -8.61458333, -114.        ],\n       [   5.        ,   -1.953125  ,   -8.61458333, -114.        ],\n       [   5.        ,   -1.82291667,   -8.74479167, -114.        ],\n       [   5.        ,   -1.69270833,   -8.74479167, -114.        ],\n       [   5.        ,   -1.5625    ,   -8.875     , -114.        ],\n       [   5.        ,   -1.43229167,   -8.875     , -114.        ],\n       [   5.        ,   -1.30208333,   -9.00520833, -114.        ],\n       [   5.        ,   -1.171875  ,   -9.00520833, -114.        ],\n       [   5.        ,   -1.04166667,   -9.13541667, -114.        ],\n       [   5.        ,   -0.91145833,   -9.13541667, -114.        ],\n       [   5.        ,   -0.78125   ,   -9.265625  , -114.        ],\n       [   5.        ,   -0.65104167,   -9.265625  , -114.        ],\n       [   5.        ,   -0.52083333,   -9.39583333, -114.        ],\n       [   5.        ,   -0.390625  ,   -9.39583333, -114.        ],\n       [   5.        ,   -0.26041667,   -9.52604167, -114.        ],\n       [   5.        ,   -0.13020833,   -9.52604167, -114.        ],\n       [   5.        ,    0.        ,   -9.65625   , -114.        ],\n       [   5.        ,    0.13020833,   -9.65625   , -114.        ],\n       [   5.        ,    0.26041667,   -9.78645833, -114.        ],\n       [   5.        ,    0.390625  ,   -9.78645833, -114.        ],\n       [   5.        ,    0.52083333,   -9.91666667, -114.        ],\n       [   5.        ,    1.82291667,   -9.91666667, -114.        ],\n       [   5.        ,    1.953125  ,   -9.78645833, -114.        ],\n       [   5.        ,    2.08333333,   -9.78645833, -114.        ],\n       [   5.        ,    2.21354167,   -9.65625   , -114.        ],\n       [   5.        ,    2.34375   ,   -9.65625   , -114.        ],\n       [   5.        ,    2.47395833,   -9.52604167, -114.        ],\n       [   5.        ,    3.77604167,   -9.52604167, -114.        ],\n       [   5.        ,    3.90625   ,   -9.65625   , -114.        ],\n       [   5.        ,    4.03645833,   -9.65625   , -114.        ],\n       [   5.        ,    4.296875  ,   -9.91666667, -114.        ],\n       [   5.        ,    4.296875  ,  -10.046875  , -114.        ],\n       [   5.        ,    4.42708333,  -10.17708333, -114.        ],\n       [   5.        ,    4.42708333,  -11.47916667, -114.        ],\n       [   5.        ,    4.296875  ,  -11.609375  , -114.        ],\n       [   5.        ,    4.296875  ,  -11.73958333, -114.        ],\n       [   5.        ,    4.16666667,  -11.86979167, -114.        ],\n       [   5.        ,    4.16666667,  -12.        , -114.        ],\n       [   5.        ,    4.03645833,  -12.13020833, -114.        ],\n       [   5.        ,    4.03645833,  -12.26041667, -114.        ],\n       [   5.        ,    3.90625   ,  -12.390625  , -114.        ],\n       [   5.        ,    3.90625   ,  -12.52083333, -114.        ],\n       [   5.        ,    3.77604167,  -12.65104167, -114.        ],\n       [   5.        ,    3.77604167,  -12.78125   , -114.        ],\n       [   5.        ,    3.64583333,  -12.91145833, -114.        ],\n       [   5.        ,    3.64583333,  -13.04166667, -114.        ],\n       [   5.        ,    3.515625  ,  -13.171875  , -114.        ],\n       [   5.        ,    3.515625  ,  -13.30208333, -114.        ],\n       [   5.        ,    2.86458333,  -13.953125  , -114.        ],\n       [   5.        ,    2.734375  ,  -13.953125  , -114.        ],\n       [   5.        ,    2.60416667,  -14.08333333, -114.        ],\n       [   5.        ,    2.47395833,  -14.08333333, -114.        ],\n       [   5.        ,    2.34375   ,  -14.21354167, -114.        ],\n       [   5.        ,    2.21354167,  -14.21354167, -114.        ],\n       [   5.        ,    2.08333333,  -14.34375   , -114.        ],\n       [   5.        ,    1.953125  ,  -14.34375   , -114.        ],\n       [   5.        ,    1.82291667,  -14.47395833, -114.        ]])"
     },
     "execution_count": 163,
     "metadata": {},
     "output_type": "execute_result"
    }
   ],
   "source": [
    "seq = point_cloud[point_cloud[:, 0] == 5]  # Slice point_cloud to only sequence 5\n",
    "seq"
   ],
   "metadata": {
    "collapsed": false,
    "ExecuteTime": {
     "end_time": "2023-07-12T19:27:27.798208874Z",
     "start_time": "2023-07-12T19:27:27.791316784Z"
    }
   }
  },
  {
   "cell_type": "code",
   "execution_count": 164,
   "outputs": [
    {
     "data": {
      "text/plain": "<matplotlib.collections.PathCollection at 0x7effb057ea00>"
     },
     "execution_count": 164,
     "metadata": {},
     "output_type": "execute_result"
    },
    {
     "data": {
      "text/plain": "<Figure size 640x480 with 1 Axes>",
      "image/png": "[encoded data removed]"
     },
     "metadata": {},
     "output_type": "display_data"
    }
   ],
   "source": [
    "plt.scatter(seq[:, 1], seq[:, 2]) # Plot X against Y of sequence 5. The \"ragged\" edge is because this contour is a deep learning prediction. The contours you have probably look different"
   ],
   "metadata": {
    "collapsed": false,
    "ExecuteTime": {
     "end_time": "2023-07-12T19:27:28.703029072Z",
     "start_time": "2023-07-12T19:27:28.457411026Z"
    }
   }
  }
 ],
 "metadata": {
  "kernelspec": {
   "display_name": "Python 3",
   "language": "python",
   "name": "python3"
  },
  "language_info": {
   "codemirror_mode": {
    "name": "ipython",
    "version": 2
   },
   "file_extension": ".py",
   "mimetype": "text/x-python",
   "name": "python",
   "nbconvert_exporter": "python",
   "pygments_lexer": "ipython2",
   "version": "2.7.6"
  }
 },
 "nbformat": 4,
 "nbformat_minor": 0
}
